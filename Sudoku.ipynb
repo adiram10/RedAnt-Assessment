{
 "cells": [
  {
   "cell_type": "code",
   "execution_count": 1,
   "metadata": {},
   "outputs": [],
   "source": [
    "def notInRow(arr, row):\n",
    "\n",
    "    st = set()\n",
    "\n",
    "    for i in range(0, 9):\n",
    "\n",
    "        if arr[row][i] in st:\n",
    "            return False\n",
    "\n",
    "        if arr[row][i] != '.':\n",
    "            st.add(arr[row][i])\n",
    "    \n",
    "    return True"
   ]
  },
  {
   "cell_type": "code",
   "execution_count": 3,
   "metadata": {},
   "outputs": [],
   "source": [
    "def notInCol(arr, col):\n",
    "\n",
    "    st = set()\n",
    "\n",
    "    for i in range(0, 9):      \n",
    "        if arr[i][col] in st:\n",
    "            return False\n",
    "\n",
    "        if arr[i][col] != '.':\n",
    "            st.add(arr[i][col])\n",
    "    \n",
    "    return True"
   ]
  },
  {
   "cell_type": "code",
   "execution_count": 4,
   "metadata": {},
   "outputs": [],
   "source": [
    "def notInBox(arr, startRow, startCol):\n",
    "\n",
    "    st = set()\n",
    "\n",
    "    for row in range(0, 3):\n",
    "        for col in range(0, 3):\n",
    "            curr = arr[row + startRow][col + startCol]\n",
    "\n",
    "            if curr in st:\n",
    "                return False\n",
    "\n",
    "            if curr != '.':\n",
    "                st.add(curr)\n",
    "            \n",
    "    return True"
   ]
  },
  {
   "cell_type": "code",
   "execution_count": 6,
   "metadata": {},
   "outputs": [],
   "source": [
    "def isValid(arr, row, col):\n",
    "\n",
    "    return (notInRow(arr, row) and notInCol(arr, col) and\n",
    "            notInBox(arr, row - row % 3, col - col % 3))\n",
    "\n",
    "def isValidConfig(arr, n):\n",
    "\n",
    "    for i in range(0, n):\n",
    "        for j in range(0, n):\n",
    "            if not isValid(arr, i, j):\n",
    "                return False\n",
    "\t\t\n",
    "    return True"
   ]
  },
  {
   "cell_type": "code",
   "execution_count": 7,
   "metadata": {},
   "outputs": [
    {
     "name": "stdout",
     "output_type": "stream",
     "text": [
      "YES\n"
     ]
    }
   ],
   "source": [
    "if __name__ == \"__main__\":\n",
    "\n",
    "    board = [[ '6', '3', '.', '.', '7', '.', '.', '.', '.' ],\n",
    "            [ '5', '.', '.', '1', '9', '6', '.', '.', '.' ],\n",
    "            [ '.', '9', '8', '.', '.', '.', '.', '5', '.' ],\n",
    "            [ '8', '.', '.', '.', '6', '.', '.', '.', '3' ],\n",
    "            [ '4', '.', '.', '8', '.', '3', '.', '.', '1' ],\n",
    "            [ '7', '.', '.', '.', '2', '.', '.', '.', '6' ],\n",
    "            [ '.', '6', '.', '.', '.', '.', '2', '8', '.' ],\n",
    "            [ '.', '.', '.', '4', '1', '9', '.', '.', '5' ],\n",
    "            [ '.', '.', '.', '.', '8', '.', '.', '7', '9' ]]\n",
    "\n",
    "    if isValidConfig(board, 9):\n",
    "        print(\"YES\")\n",
    "    else:\n",
    "        print(\"NO\")\n"
   ]
  },
  {
   "cell_type": "code",
   "execution_count": null,
   "metadata": {},
   "outputs": [],
   "source": []
  }
 ],
 "metadata": {
  "kernelspec": {
   "display_name": "Python 3",
   "language": "python",
   "name": "python3"
  },
  "language_info": {
   "codemirror_mode": {
    "name": "ipython",
    "version": 3
   },
   "file_extension": ".py",
   "mimetype": "text/x-python",
   "name": "python",
   "nbconvert_exporter": "python",
   "pygments_lexer": "ipython3",
   "version": "3.8.5"
  }
 },
 "nbformat": 4,
 "nbformat_minor": 4
}
